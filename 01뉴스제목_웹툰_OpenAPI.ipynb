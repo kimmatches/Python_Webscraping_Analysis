{
 "cells": [
  {
   "cell_type": "markdown",
   "id": "eb0bfa44",
   "metadata": {},
   "source": [
    "## 1. 뉴스제목 가져오기\n",
    "* user-agent 요청헤더를 반드시 설정해야 한다."
   ]
  },
  {
   "cell_type": "code",
   "execution_count": 16,
   "id": "f0d27781",
   "metadata": {},
   "outputs": [
    {
     "name": "stdout",
     "output_type": "stream",
     "text": [
      "Name: requests\n",
      "Version: 2.32.2\n",
      "Summary: Python HTTP for Humans.\n",
      "Home-page: https://requests.readthedocs.io\n",
      "Author: Kenneth Reitz\n",
      "Author-email: me@kennethreitz.org\n",
      "License: Apache-2.0\n",
      "Location: C:\\Users\\r2com\\anaconda3\\Lib\\site-packages\n",
      "Requires: certifi, charset-normalizer, idna, urllib3\n",
      "Required-by: aext-assistant-server, anaconda-catalogs, anaconda-client, anaconda-cloud-auth, anaconda-project, conda, conda-build, conda-repo-cli, conda_package_streaming, cookiecutter, datashader, intake, jupyterlab_server, panel, requests-file, requests-toolbelt, Sphinx, streamlit, tldextract\n"
     ]
    }
   ],
   "source": [
    "!pip show requests"
   ]
  },
  {
   "cell_type": "code",
   "execution_count": 17,
   "id": "f7798ea8",
   "metadata": {},
   "outputs": [
    {
     "name": "stdout",
     "output_type": "stream",
     "text": [
      "Name: beautifulsoup4\n",
      "Version: 4.12.3\n",
      "Summary: Screen-scraping library\n",
      "Home-page: \n",
      "Author: \n",
      "Author-email: Leonard Richardson <leonardr@segfault.org>\n",
      "License: MIT License\n",
      "Location: C:\\Users\\r2com\\anaconda3\\Lib\\site-packages\n",
      "Requires: soupsieve\n",
      "Required-by: conda-build, nbconvert\n"
     ]
    }
   ],
   "source": [
    "!pip show beautifulsoup4"
   ]
  },
  {
   "cell_type": "code",
   "execution_count": 18,
   "id": "bf80a429",
   "metadata": {},
   "outputs": [],
   "source": [
    "import requests\n",
    "import bs4\n",
    "from bs4 import BeautifulSoup"
   ]
  },
  {
   "cell_type": "code",
   "execution_count": 19,
   "id": "9788d6ac",
   "metadata": {},
   "outputs": [
    {
     "name": "stdout",
     "output_type": "stream",
     "text": [
      "request ver 2.32.2\n",
      "beautifulsoup 4.12.3\n"
     ]
    }
   ],
   "source": [
    "print(f'request ver {requests.__version__}' )\n",
    "print('beautifulsoup {}'.format(bs4.__version__))"
   ]
  },
  {
   "cell_type": "markdown",
   "id": "ccb91def-cde3-4aeb-b0e5-2e7233500333",
   "metadata": {},
   "source": [
    "### 1. 뉴스 제목 추출하기"
   ]
  },
  {
   "cell_type": "code",
   "execution_count": 21,
   "id": "94c12fd6",
   "metadata": {
    "scrolled": true
   },
   "outputs": [
    {
     "name": "stdout",
     "output_type": "stream",
     "text": [
      "https://news.naver.com/section/105\n",
      "<class 'requests.models.Response'>\n",
      "200\n",
      "True\n",
      "news 제목 = 엔씨, 본사 임원 20% 줄였다…\"연말까지 구조조정\"[IR]\n",
      "news 링크 = https://n.news.naver.com/mnews/article/421/0007711245\n",
      "news 제목 = 김태규 방통위원장 직무대행 \"이번 사태로 탄핵 희화화 완성\"\n",
      "news 링크 = https://n.news.naver.com/mnews/article/052/0002070388\n",
      "news 제목 = \"올해 스마트폰 출하 3.8%↑…1위 삼성, 애플과 격차 벌릴 것\"\n",
      "news 링크 = https://n.news.naver.com/mnews/article/001/0014854918\n",
      "news 제목 = 엔씨 \"레거시 IP 기반 게임 3종 중 1종 올해 4분기 글로벌 출시\"[컨콜]\n",
      "news 링크 = https://n.news.naver.com/mnews/article/031/0000859398\n",
      "news 제목 = 과기정통부, 연구생활장려금 예산 보조 대상 대학 접수\n",
      "news 링크 = https://n.news.naver.com/mnews/article/421/0007710756\n",
      "news 제목 = 롯데이노베이트, AI챗봇 품질·편의성 높인 `아이멤버 2.0` 선봬\n",
      "news 링크 = https://n.news.naver.com/mnews/article/029/0002892744\n",
      "news 제목 = 007 국장·쿵푸팬더 여우가 내 비서?…메타, AI 목소리 협상[IT썰]\n",
      "news 링크 = https://n.news.naver.com/mnews/article/008/0005072784\n",
      "news 제목 = 서울대 연구진, 배터리 ‘열폭주’ 원인 밝혔다...억제 방법까지 제시\n",
      "news 링크 = https://n.news.naver.com/mnews/article/021/0002652464\n",
      "news 제목 = 파랗게 질린 블랙먼데이, 와르르 무너진 보안株\n",
      "news 링크 = https://n.news.naver.com/mnews/article/138/0002179235\n",
      "news 제목 = 적자 간신히 면한 엔씨, 신작·M&A에 승부건다\n",
      "news 링크 = https://n.news.naver.com/mnews/article/011/0004376261\n",
      "news 제목 = 셀트리온 피하주사 '짐펜트라', 美 3대 의약품 유통망 뚫었다\n",
      "news 링크 = https://n.news.naver.com/mnews/article/015/0005018313\n",
      "news 제목 = 한·일 증시 대폭락...'블랙먼데이'\n",
      "news 링크 = https://n.news.naver.com/mnews/article/092/0002340964\n",
      "news 제목 = 삼성전자, 올해 '1위' 예상…\"스마트폰 출하량 3년 만에 반등\"\n",
      "news 링크 = https://n.news.naver.com/mnews/article/015/0005018297\n",
      "news 제목 = SK 최태원, AI 난기류 극복할 비책으로 '기술력' 제시\n",
      "news 링크 = https://n.news.naver.com/mnews/article/293/0000057089\n",
      "news 제목 = [DD퇴근길] 美 나스닥 입성, 네웹 성적표는…전기차 폭발, '中 배터리 포비아' 부르나\n",
      "news 링크 = https://n.news.naver.com/mnews/article/138/0002179234\n",
      "news 제목 = [유통 픽] 스타벅스, 기부 캠페인 3년만에 참여자 1만 명 넘을 듯 外\n",
      "news 링크 = https://n.news.naver.com/mnews/article/092/0002340962\n",
      "news 제목 = '거듭된 실적부진' 엔씨에 부는 칼바람…\"본사 인원 10% 감축\"\n",
      "news 링크 = https://n.news.naver.com/mnews/article/015/0005018269\n",
      "news 제목 = 코스피·코스닥 폭락 쇼크…‘DX 첨병’ IT서비스 기업들도 두자릿수 주가급락\n",
      "news 링크 = https://n.news.naver.com/mnews/article/138/0002179233\n",
      "news 제목 = AI發 반도체 빅뱅…HBM 이어 CXL이 뜬다\n",
      "news 링크 = https://n.news.naver.com/mnews/article/015/0005018266\n",
      "news 제목 = [게임코인 진단]⑤넷마블, 마브렉스 '접목' 성공할까\n",
      "news 링크 = https://n.news.naver.com/mnews/article/293/0000057087\n",
      "news 제목 = 청문회 D-3...'출근길 말말말'로 본 유상임 과기정통부 후보자는\n",
      "news 링크 = https://n.news.naver.com/mnews/article/138/0002179231\n",
      "news 제목 = 中 광저우 매각 초읽기 돌입…LG디스플레이, 중소형 OLED 힘 싣나 [소부장디과장]\n",
      "news 링크 = https://n.news.naver.com/mnews/article/138/0002179230\n",
      "news 제목 = [팩플] “AI가 쿵푸팬더 여우 목소리네?”…빅테크 ‘AI 목소리 전쟁’\n",
      "news 링크 = https://n.news.naver.com/mnews/article/025/0003377960\n",
      "news 제목 = 흑자 낸 엔씨…\"인건비 줄이고 투자는 늘린다\"\n",
      "news 링크 = https://n.news.naver.com/mnews/article/648/0000027927\n",
      "news 제목 = 엔씨소프트, 적자 면했지만 안심 못한다…“신작으로 기회 모색” (종합)\n",
      "news 링크 = https://n.news.naver.com/mnews/article/119/0002858901\n",
      "news 제목 = \"007 M·쿵푸팬더 여우가 AI 비서?\"…메타, 유명 배우 목소리 사용 협상\n",
      "news 링크 = https://n.news.naver.com/mnews/article/003/0012710894\n",
      "news 제목 = 엔씨, 연말까지 구조조정으로 비용 감축…\"공격적 투자 지속\"(종합)\n",
      "news 링크 = https://n.news.naver.com/mnews/article/421/0007711410\n",
      "news 제목 = 허리띠 졸라맨 엔씨소프트, IP 확보 '총력'\n",
      "news 링크 = https://n.news.naver.com/mnews/article/293/0000057081\n",
      "news 제목 = 엔씨소프트, 2분기 숨고르기...신작-투자로 성장동력 마련\n",
      "news 링크 = https://n.news.naver.com/mnews/article/092/0002340960\n",
      "news 제목 = 펄어비스 이어 엔씨까지 대규모 투자…빅게임스튜디오가 어디길래?\n",
      "news 링크 = https://n.news.naver.com/mnews/article/031/0000859460\n",
      "news 제목 = “3배 올라도 없어서 못산다” 코로나 재유행 ‘난리’…진단키트 가격 폭등\n",
      "news 링크 = https://n.news.naver.com/mnews/article/016/0002345654\n",
      "news 제목 = [컨콜] 엔씨소프트 “대작 3종 성과 기대… MMORPG 집중도 지속” (종합)\n",
      "news 링크 = https://n.news.naver.com/mnews/article/138/0002179226\n",
      "news 제목 = 적자 면한 엔씨소프트, 2분기 영업익 '88억원'… 반등 복안은\n",
      "news 링크 = https://n.news.naver.com/mnews/article/417/0001018940\n",
      "news 제목 = [사용기] 광화문 광장에 물고기가?…`갤럭시Z폴드6` AI 기능 써보니 \"재밌네\"\n",
      "news 링크 = https://n.news.naver.com/mnews/article/029/0002892870\n",
      "news 제목 = 김태규 방통위원장 직무대행 “이진숙 탄핵은 희대의 촌극, 국민이 피해”\n",
      "news 링크 = https://n.news.naver.com/mnews/article/030/0003229259\n",
      "news 제목 = \"알리·테무 무섭네\"...7월 결제추정금 전년 동기 대비 64%↑\n",
      "news 링크 = https://n.news.naver.com/mnews/article/092/0002340953\n",
      "news 제목 = 中 창신메모리, HBM 자립 속도전…'5만장 이상 양산능력 구축'\n",
      "news 링크 = https://n.news.naver.com/mnews/article/030/0003229255\n",
      "news 제목 = `AI 작성 여부 감지기술` 공개 망설이는 오픈AI, 왜?\n",
      "news 링크 = https://n.news.naver.com/mnews/article/029/0002892864\n",
      "news 제목 = [이슈진단+] '의대 쏠림' 반도체 설계 인재·교수가 없다...통합 컨트롤 타워 필요\n",
      "news 링크 = https://n.news.naver.com/mnews/article/092/0002340952\n",
      "news 제목 = 한국인은 잘 걸리지 않는다?…피부암 환자, 20년 새 7배 폭증\n",
      "news 링크 = https://n.news.naver.com/mnews/article/421/0007711281\n",
      "news 제목 = [종합] 엔씨, 적자 전망 뒤집고 2분기 흑자 지속…하반기 신작 러시\n",
      "news 링크 = https://n.news.naver.com/mnews/article/031/0000859428\n",
      "news 제목 = 구글 픽셀9 프로 폴드, 실제 제품 사진 포착\n",
      "news 링크 = https://n.news.naver.com/mnews/article/092/0002340948\n",
      "news 제목 = 방통위 정쟁 연장전…직무 대행 \"이틀 만에 탄핵 희대의 촌극\"\n",
      "news 링크 = https://n.news.naver.com/mnews/article/421/0007711256\n",
      "news 제목 = 5G·LTE 알뜰폰 요금 내려갈까\n",
      "news 링크 = https://n.news.naver.com/mnews/article/092/0002340947\n"
     ]
    }
   ],
   "source": [
    "# IT/과학 뉴스\n",
    "req_param = {\n",
    "    'sid': 105\n",
    "}\n",
    "url = 'https://news.naver.com/section/{sid}'.format(**req_param)\n",
    "print(url)\n",
    "# 요청 헤더 설정 : 브라우저 정보\n",
    "req_header = {\n",
    "    'user-agent': 'Mozilla/5.0 (Windows NT 10.0; Win64; x64) AppleWebKit/537.36 (KHTML, like Gecko) Chrome/104.0.0.0 Safari/537.36'\n",
    "}\n",
    "# requests 모듈을 사용해서 http 통신 \n",
    "res = requests.get(url, headers=req_header)\n",
    "print(type(res))\n",
    "print(res.status_code) #200\n",
    "print(res.ok) #True\n",
    "if res.ok:\n",
    "    # 소스보기 텍스트 가져오기\n",
    "    html = res.text\n",
    "    # parsing을 하기 위해서 BeautifulSoup 객체생성\n",
    "    soup = BeautifulSoup(html, \"html.parser\")\n",
    "    #print(type(soup))\n",
    "    '''\n",
    "        <div class='sa_text'>\n",
    "            <a href='https://n.news.naver.com/mnews/article/092/0002340904' class='sa_text_title'>\n",
    "               <strong class=\"sa_text_strong\">엔씨소프트, 2분기 영업익 88억...실적 개선 박차</strong>\n",
    "    '''\n",
    "    #print(len(soup.select(\"div.sa_text a[href*='https://n.news.naver.com/mnews/article']\")))\n",
    "    #print(len(soup.select(\"div.sa_text a.sa_text_title\")))\n",
    "    atag_list = soup.select(\"div.sa_text a.sa_text_title\")\n",
    "    #print(type(atag_list))\n",
    "    for atag in atag_list:\n",
    "        # text속성: tag사이의 content, strip()공백제거\n",
    "        title = atag.text.strip()\n",
    "        # href 속성의 값을 추출하기\n",
    "        url = atag['href']\n",
    "        print(f'news 제목 = {title}')\n",
    "        print(f'news 링크 = {url}')\n",
    "else:\n",
    "    print(f'Error 발생 {res.status_code}')"
   ]
  },
  {
   "cell_type": "code",
   "execution_count": 23,
   "id": "4461b9cc",
   "metadata": {},
   "outputs": [],
   "source": [
    "section_dict = {100:'정치',101:'경제',102:'사회',103:'생활/문화',104:'세계',105:'IT/과학'}"
   ]
  },
  {
   "cell_type": "markdown",
   "id": "45640860-a449-4285-90d7-5f300292b461",
   "metadata": {},
   "source": [
    "### 1.1 뉴스제목 추출하는 함수 선언하기"
   ]
  },
  {
   "cell_type": "code",
   "execution_count": 25,
   "id": "9f2e4ef8",
   "metadata": {},
   "outputs": [],
   "source": [
    "import requests\n",
    "from bs4 import BeautifulSoup\n",
    "\n",
    "def print_news(sid, section):    \n",
    "    # 요청 Parameter\n",
    "    req_param = {\n",
    "        'sid': sid\n",
    "    }\n",
    "    url = 'https://news.naver.com/section/{sid}'.format(**req_param)\n",
    "    \n",
    "    print(f'======> {url} {section} 뉴스 <======')\n",
    "    \n",
    "    # 요청 헤더 설정 : 브라우저 정보\n",
    "    req_header = {\n",
    "        'user-agent': 'Mozilla/5.0 (Windows NT 10.0; Win64; x64) AppleWebKit/537.36 (KHTML, like Gecko) Chrome/104.0.0.0 Safari/537.36'\n",
    "    }\n",
    "    # requests 모듈을 사용해서 http 통신 \n",
    "    res = requests.get(url, headers=req_header)\n",
    "    if res.ok:\n",
    "        # 소스보기 텍스트 가져오기\n",
    "        html = res.text\n",
    "        # parsing을 하기 위해서 BeautifulSoup 객체생성\n",
    "        soup = BeautifulSoup(html, \"html.parser\")\n",
    "        atag_list = soup.select(\"div.sa_text a.sa_text_title\")\n",
    "        for atag in atag_list:\n",
    "            # text속성: tag사이의 content, strip()공백제거\n",
    "            title = atag.text.strip()\n",
    "            # href 속성의 값을 추출하기\n",
    "            url = atag['href']\n",
    "            print(f'news 제목 = {title}')\n",
    "            print(f'news 링크 = {url}')\n",
    "    else:\n",
    "        print(f'Error 발생 {res.status_code}')"
   ]
  },
  {
   "cell_type": "code",
   "execution_count": 26,
   "id": "858952c6",
   "metadata": {},
   "outputs": [
    {
     "name": "stdout",
     "output_type": "stream",
     "text": [
      "======> https://news.naver.com/section/104 세계 뉴스 <======\n",
      "news 제목 = 3주새 냉온탕 오간 트럼프 캠프…해리스 우세에 위기론 부상[2024美대선]\n",
      "news 링크 = https://n.news.naver.com/mnews/article/003/0012710109\n",
      "news 제목 = 뉴럴링크, 두 번째 환자 뇌에 칩 이식...척추손상 환자\n",
      "news 링크 = https://n.news.naver.com/mnews/article/029/0002892658\n",
      "news 제목 = 미국·영국 \"레바논 즉시 떠나라\" 자국민에 다급한 권고\n",
      "news 링크 = https://n.news.naver.com/mnews/article/001/0014852675\n",
      "news 제목 = WSJ \"오픈AI, 챗GPT 부정사용 기술 개발했지만 공개 안 해\"\n",
      "news 링크 = https://n.news.naver.com/mnews/article/374/0000395961\n",
      "news 제목 = 방글라데시 총리 퇴진 시위 격화…최소 93명 사망·1000명 이상 부상\n",
      "news 링크 = https://n.news.naver.com/mnews/article/421/0007709838\n",
      "news 제목 = \"이스라엘, 이란 보복 확실해지면 선제 타격 고려할 수도\"\n",
      "news 링크 = https://n.news.naver.com/mnews/article/055/0001178791\n",
      "news 제목 = 日증시 12.4% 폭락…87년 '블랙 먼데이' 뛰어넘어 사상최대 낙폭(종합2보)\n",
      "news 링크 = https://n.news.naver.com/mnews/article/001/0014855502\n",
      "news 제목 = 미국, 수주내 자율주행 차량에 중국산 소프트웨어 금지\n",
      "news 링크 = https://n.news.naver.com/mnews/article/021/0002652517\n",
      "news 제목 = 닛케이지수 4400엔 폭락하며 충격 빠진 일본… \"꽉 찬 극장에 불난 모습\"\n",
      "news 링크 = https://n.news.naver.com/mnews/article/469/0000816175\n",
      "news 제목 = “심지어 독일에서” 아델 콘서트장에 뜬금 등장한 욱일기\n",
      "news 링크 = https://n.news.naver.com/mnews/article/023/0003850653\n",
      "news 제목 = “조종 가능 인력 단 6명인데”…F-16, 우크라이나 도착\n",
      "news 링크 = https://n.news.naver.com/mnews/article/030/0003229284\n",
      "news 제목 = 비트코인, 5만2000달러대…한때 5만 달러선 무너져\n",
      "news 링크 = https://n.news.naver.com/mnews/article/003/0012710952\n",
      "news 제목 = 워런 버핏의 선견지명?…이미 주식 팔고 현금 확보했다\n",
      "news 링크 = https://n.news.naver.com/mnews/article/005/0001715806\n",
      "news 제목 = “이란, 지중해 가스전 타격 유력…미군도 공격 대상”\n",
      "news 링크 = https://n.news.naver.com/mnews/article/005/0001715805\n",
      "news 제목 = 마잉주 전 대만 총통, 대만 독립 노선 철회 촉구\n",
      "news 링크 = https://n.news.naver.com/mnews/article/014/0005223505\n",
      "news 제목 = 中 인민해방군, 남부 이어 북부전구 사령관 교체... 왜?\n",
      "news 링크 = https://n.news.naver.com/mnews/article/021/0002652591\n",
      "news 제목 = “비혼 유행, 한국보다 더 빠르네”...10년새 혼인율 반토막\n",
      "news 링크 = https://n.news.naver.com/mnews/article/009/0005345659\n",
      "news 제목 = 해리스 러닝메이트 선정 막판 진통…진보 '셔피로 비토론' 돌출\n",
      "news 링크 = https://n.news.naver.com/mnews/article/001/0014855762\n",
      "news 제목 = '블랙 먼데이' 美침체 공포가 글로벌 주식 투매 촉발(종합)\n",
      "news 링크 = https://n.news.naver.com/mnews/article/421/0007711388\n",
      "news 제목 = 주일대사는 왜 일왕의 '국빈 방한'을 거론했나 [김종성의 '히, 스토리']\n",
      "news 링크 = https://n.news.naver.com/mnews/article/047/0002442035\n",
      "news 제목 = 美 \"이란, 24~48시간 내 이스라엘 공격\"…'전쟁시계' 빨리 돈다\n",
      "news 링크 = https://n.news.naver.com/mnews/article/025/0003377953\n",
      "news 제목 = [속보] 이란 \"중동전쟁 나도 상관없어\" 보복자제 거부…이스라엘 \"선제타격 고려\"\n",
      "news 링크 = https://n.news.naver.com/mnews/article/029/0002892875\n",
      "news 제목 = “크림반도서 러 잠수함 미사일 격침”…위성 사진으로 보니 [포착]\n",
      "news 링크 = https://n.news.naver.com/mnews/article/081/0003470095\n",
      "news 제목 = NYT \"해리스 유세 대규모 인파, 트럼프 겁먹게 해\"\n",
      "news 링크 = https://n.news.naver.com/mnews/article/015/0005018231\n",
      "news 제목 = 엔화 3% 넘게 급등하며 금융시장 흔들어…위안화 동반 강세\n",
      "news 링크 = https://n.news.naver.com/mnews/article/055/0001178819\n",
      "news 제목 = '5차 중동전' 일촉즉발…이란 보복 시나리오는\n",
      "news 링크 = https://n.news.naver.com/mnews/article/003/0012710797\n",
      "news 제목 = '해리스 지지' UAW에…트럼프 \"어리석어\" 비난\n",
      "news 링크 = https://n.news.naver.com/mnews/article/018/0005805568\n",
      "news 제목 = 엔화 급등이 세계증시에 악재야? '엔캐리' 청산 속도 낸다\n",
      "news 링크 = https://n.news.naver.com/mnews/article/008/0005073137\n",
      "news 제목 = 트럼프 \"폭스\" vs 해리스 \"ABC\"…TV 토론 신경전\n",
      "news 링크 = https://n.news.naver.com/mnews/article/422/0000674757\n",
      "news 제목 = 민주당이 띄운 “이상하다(weird)” 전략의 효과와 맹점[김유진의 워싱턴리포트]\n",
      "news 링크 = https://n.news.naver.com/mnews/article/032/0003313017\n",
      "news 제목 = \"트럼프에 반대표 던질 것\"…해리스, '反트럼프' 공화당원 공략 나서\n",
      "news 링크 = https://n.news.naver.com/mnews/article/022/0003957280\n",
      "news 제목 = 일본도 ‘블랙먼데이’...미국발 ‘R의 공포’에 사상 최대 폭 하락\n",
      "news 링크 = https://n.news.naver.com/mnews/article/021/0002652575\n",
      "news 제목 = 亞증시까지 급락…\"美 경기침체 우려 지나쳐\"\n",
      "news 링크 = https://n.news.naver.com/mnews/article/003/0012710695\n",
      "news 제목 = 이란 \"전쟁 불사\" vs 이스라엘 \"선제 타격\"…48시간 내 공격 가능\n",
      "news 링크 = https://n.news.naver.com/mnews/article/088/0000896198\n",
      "news 제목 = 해리스 유세 인파에 심기불편 트럼프…\"연예인 불러서 모았다\"\n",
      "news 링크 = https://n.news.naver.com/mnews/article/001/0014855525\n",
      "news 제목 = 中 동부·북서부 기온 44도 육박…상하이 전력 수요 역대 최대\n",
      "news 링크 = https://n.news.naver.com/mnews/article/421/0007711097\n",
      "news 제목 = 이란 보복 초읽기···‘저항의 축’ 총동원 가능성, 전면전 불씨 당기나\n",
      "news 링크 = https://n.news.naver.com/mnews/article/032/0003313009\n",
      "news 제목 = 이란 대통령 \"이스라엘, 큰 실수 저질렀다…책임 안 물을 수 없어\"\n",
      "news 링크 = https://n.news.naver.com/mnews/article/421/0007711084\n",
      "news 제목 = 이란은 보복 예고, 이스라엘은 '이미 전쟁 중'... 중동 일촉즉발\n",
      "news 링크 = https://n.news.naver.com/mnews/article/014/0005223423\n",
      "news 제목 = \"역시 버핏\" 주식 대거 처분한 뒤 글로벌 주식 투매 발생\n",
      "news 링크 = https://n.news.naver.com/mnews/article/421/0007711041\n",
      "news 제목 = 캄보디아, 메콩강 해안 180km 운하 기공식…동남아 지정학 파장\n",
      "news 링크 = https://n.news.naver.com/mnews/article/003/0012710590\n",
      "news 제목 = 이스라엘군, 레바논 남부 헤즈볼라 시설 타격...먼저 움직이나\n",
      "news 링크 = https://n.news.naver.com/mnews/article/021/0002652568\n",
      "news 제목 = 확전 우려에 만류·자국민 보호 나선 주변국…이란은 ‘보복’ 고수\n",
      "news 링크 = https://n.news.naver.com/mnews/article/032/0003312997\n",
      "news 제목 = “모두가 던졌다” 초토화된 日 증시…전망은 더 암울 [디브리핑]\n",
      "news 링크 = https://n.news.naver.com/mnews/article/016/0002345595\n"
     ]
    }
   ],
   "source": [
    "section_dict = {100:'정치',101:'경제',102:'사회',103:'생활/문화',104:'세계',105:'IT/과학'}\n",
    "print_news(104,section_dict[104])"
   ]
  },
  {
   "cell_type": "markdown",
   "id": "323196dc",
   "metadata": {},
   "source": [
    "### 2. Image 다운로드\n",
    "* referer 요청 헤더를 반드시 설정해야 한다."
   ]
  },
  {
   "cell_type": "code",
   "execution_count": 34,
   "id": "c72d6cb1",
   "metadata": {},
   "outputs": [
    {
     "name": "stdout",
     "output_type": "stream",
     "text": [
      "writing to 20220804112251_d97bd1e1b38f0cd022e4e3639d2926b3_IMAG01_1.jpg (299,319 bytes)\n",
      "writing to 20220804112251_d97bd1e1b38f0cd022e4e3639d2926b3_IMAG01_2.jpg (163,333 bytes)\n",
      "writing to 20220804112251_d97bd1e1b38f0cd022e4e3639d2926b3_IMAG01_3.jpg (182,530 bytes)\n"
     ]
    }
   ],
   "source": [
    "import requests\n",
    "import os\n",
    "\n",
    "req_header = {\n",
    "    'referer':'https://comic.naver.com/webtoon/detail?titleId=798173&no=5&amp;weekday=thu'\n",
    "}\n",
    "# jpg filename list\n",
    "img_urls = [\n",
    "    'https://image-comic.pstatic.net/webtoon/798173/5/20220804112251_d97bd1e1b38f0cd022e4e3639d2926b3_IMAG01_1.jpg',\n",
    "    'https://image-comic.pstatic.net/webtoon/798173/5/20220804112251_d97bd1e1b38f0cd022e4e3639d2926b3_IMAG01_2.jpg',\n",
    "    'https://image-comic.pstatic.net/webtoon/798173/5/20220804112251_d97bd1e1b38f0cd022e4e3639d2926b3_IMAG01_3.jpg'\n",
    "]\n",
    "for img_url in img_urls:\n",
    "    #print(img_url)\n",
    "    res = requests.get(img_url, headers=req_header)\n",
    "    #print(res.status_code)\n",
    "    if res.ok:\n",
    "        # binary 데이터 추출\n",
    "        img_data = res.content\n",
    "        # url에서 file name을 가져오기\n",
    "        file_name = os.path.basename(img_url)\n",
    "        with open(file_name,'wb') as file:\n",
    "            print(f'writing to {file_name} ({len(img_data):,} bytes)')\n",
    "            file.write(img_data)\n",
    "    else:\n",
    "        print(f'Error 발생 {res.status_code}') "
   ]
  },
  {
   "cell_type": "markdown",
   "id": "e8b00a04",
   "metadata": {},
   "source": [
    "* 현재 요청된 페이지의 image 모두 다운로드 해보기"
   ]
  },
  {
   "cell_type": "code",
   "execution_count": 36,
   "id": "b30f7bf5",
   "metadata": {},
   "outputs": [
    {
     "name": "stdout",
     "output_type": "stream",
     "text": [
      "102\n",
      "18\n",
      "1 200\n",
      "writing to img\\20240226100634_548bfa8f14799d53d45b5f12df1b289e_IMAG01_1.jpg (128,897 bytes)\n",
      "2 200\n",
      "writing to img\\20240226100634_548bfa8f14799d53d45b5f12df1b289e_IMAG01_2.jpg (143,194 bytes)\n",
      "3 200\n",
      "writing to img\\20240226100634_548bfa8f14799d53d45b5f12df1b289e_IMAG01_3.jpg (101,900 bytes)\n",
      "4 200\n",
      "writing to img\\20240226100634_548bfa8f14799d53d45b5f12df1b289e_IMAG01_4.jpg (112,007 bytes)\n",
      "5 200\n",
      "writing to img\\20240226100634_548bfa8f14799d53d45b5f12df1b289e_IMAG01_5.jpg (190,876 bytes)\n",
      "6 200\n",
      "writing to img\\20240226100634_548bfa8f14799d53d45b5f12df1b289e_IMAG01_6.jpg (134,590 bytes)\n",
      "7 200\n",
      "writing to img\\20240226100634_548bfa8f14799d53d45b5f12df1b289e_IMAG01_7.jpg (132,910 bytes)\n",
      "8 200\n",
      "writing to img\\20240226100634_548bfa8f14799d53d45b5f12df1b289e_IMAG01_8.jpg (174,434 bytes)\n",
      "9 200\n",
      "writing to img\\20240226100634_548bfa8f14799d53d45b5f12df1b289e_IMAG01_9.jpg (88,576 bytes)\n",
      "10 200\n",
      "writing to img\\20240226100634_548bfa8f14799d53d45b5f12df1b289e_IMAG01_10.jpg (177,240 bytes)\n",
      "11 200\n",
      "writing to img\\20240226100634_548bfa8f14799d53d45b5f12df1b289e_IMAG01_11.jpg (95,130 bytes)\n",
      "12 200\n",
      "writing to img\\20240226100634_548bfa8f14799d53d45b5f12df1b289e_IMAG01_12.jpg (109,718 bytes)\n",
      "13 200\n",
      "writing to img\\20240226100634_548bfa8f14799d53d45b5f12df1b289e_IMAG01_13.jpg (144,476 bytes)\n",
      "14 200\n",
      "writing to img\\20240226100634_548bfa8f14799d53d45b5f12df1b289e_IMAG01_14.jpg (127,739 bytes)\n",
      "15 200\n",
      "writing to img\\20240226100634_548bfa8f14799d53d45b5f12df1b289e_IMAG01_15.jpg (143,133 bytes)\n",
      "16 200\n",
      "writing to img\\20240226100634_548bfa8f14799d53d45b5f12df1b289e_IMAG01_16.jpg (159,328 bytes)\n",
      "17 200\n",
      "writing to img\\20240226100634_548bfa8f14799d53d45b5f12df1b289e_IMAG01_17.jpg (139,300 bytes)\n",
      "18 200\n",
      "writing to img\\20240226100634_548bfa8f14799d53d45b5f12df1b289e_IMAG01_18.jpg (54,967 bytes)\n"
     ]
    }
   ],
   "source": [
    "import requests\n",
    "import os\n",
    "\n",
    "webtoon_url = 'https://comic.naver.com/webtoon/detail?titleId=817945&no=37&week=mon'\n",
    "req_header = {\n",
    "    'referer': webtoon_url\n",
    "}\n",
    "# jpg image 파일명을 먼저 알아내기\n",
    "res = requests.get(webtoon_url)\n",
    "if res.ok: #200\n",
    "    # xx.jpg 파일명 목록 가져오기\n",
    "    soup = BeautifulSoup(res.text, 'html.parser')\n",
    "    print(len(soup.select(\"img[src$='.jpg']\"))) #108\n",
    "    print(len(soup.select(\"img[src*='IMAG01']\"))) #18\n",
    "    img_tag_list = soup.select(\"img[src*='IMAG01']\")\n",
    "\n",
    "    #image 파일명을 저장할 리스트 선언\n",
    "    img_url_list = []\n",
    "    for img_tag in img_tag_list:\n",
    "        #print(img_tag['src'])\n",
    "        #image 태그의 src속성의 값을 추출해서 list에 추가하기\n",
    "        img_url_list.append(img_tag['src'])\n",
    "\n",
    "    image_dir_name = 'img'\n",
    "    #img 디렉토리가 없으면 img 디렉토리 생성하기\n",
    "    if not os.path.isdir(image_dir_name):\n",
    "        os.mkdir(image_dir_name)\n",
    "\n",
    "    for idx,img_url in enumerate(img_url_list,1):\n",
    "        res = requests.get(img_url, headers=req_header)\n",
    "        print(idx, res.status_code)\n",
    "        if res.ok:\n",
    "            # binary 데이터 추출\n",
    "            img_data = res.content\n",
    "            # url에서 file name을 가져오기\n",
    "            file_name = os.path.basename(img_url)\n",
    "            #img/xxxx.jpg\n",
    "            dir_name = os.path.join(image_dir_name,file_name)\n",
    "            with open(dir_name,'wb') as file:\n",
    "                print(f'writing to {dir_name} ({len(img_data):,} bytes)')\n",
    "                file.write(img_data)\n",
    "        else:\n",
    "            print(f'Error 발생 {res.status_code}')\n",
    "else:\n",
    "    print(res.status_code)"
   ]
  },
  {
   "cell_type": "markdown",
   "id": "2ac9f5f9",
   "metadata": {},
   "source": [
    "### 3. 파일 업로드 하기\n",
    "* http://httpbin.org/post 업로드 요청을 할 수 있는 url"
   ]
  },
  {
   "cell_type": "code",
   "execution_count": 17,
   "id": "04da4790",
   "metadata": {},
   "outputs": [],
   "source": []
  },
  {
   "cell_type": "markdown",
   "id": "7ad65f12",
   "metadata": {},
   "source": [
    "### 4. 단축 URL 생성하는 Open API 사용하기\n",
    "* urllib 사용"
   ]
  },
  {
   "cell_type": "code",
   "execution_count": null,
   "id": "abbb0ebf",
   "metadata": {},
   "outputs": [],
   "source": [
    "import os\n",
    "import sys\n",
    "import urllib.request\n",
    "\n",
    "client_id = \"V\" # 개발자센터에서 발급받은 Client ID 값\n",
    "client_secret = \"y_\" # 개발자센터에서 발급받은 Client Secret 값\n",
    "encText = urllib.parse.quote(\"https://drive.google.com/drive/u/0/folders/1V_DK7Px5w_niEKLlWhDr_GPgIYHG3Du-\")\n",
    "data = \"url=\" + encText\n",
    "url = \"https://openapi.naver.com/v1/util/shorturl\"\n",
    "\n",
    "request = urllib.request.Request(url)\n",
    "request.add_header(\"X-Naver-Client-Id\",client_id)\n",
    "request.add_header(\"X-Naver-Client-Secret\",client_secret)\n",
    "\n",
    "response = urllib.request.urlopen(request, data=data.encode(\"utf-8\"))\n",
    "rescode = response.getcode()\n",
    "if(rescode==200):\n",
    "    response_body = response.read()\n",
    "    print(response_body.decode('utf-8'))\n",
    "else:\n",
    "    print(\"Error Code:\" + rescode)\n"
   ]
  },
  {
   "cell_type": "markdown",
   "id": "b7d984a6",
   "metadata": {},
   "source": [
    "* requests를 사용하는 코드로 변경하기\n",
    "* [requests docs](https://requests.readthedocs.io/en/latest/user/quickstart/)"
   ]
  },
  {
   "cell_type": "code",
   "execution_count": null,
   "id": "727b427b",
   "metadata": {
    "scrolled": true
   },
   "outputs": [],
   "source": [
    "import requests\n",
    "\n",
    "client_id = \"V\" # 개발자센터에서 발급받은 Client ID 값\n",
    "client_secret = \"y_\" # 개발자센터에서 발급받은 Client Secret 값\n",
    "\n",
    "origin_url = \"https://drive.google.com/drive/u/0/folders/1V_DK7Px5w_niEKLlWhDr_GPgIYHG3Du-\"\n",
    "\n"
   ]
  },
  {
   "cell_type": "markdown",
   "id": "d5e1179a",
   "metadata": {},
   "source": [
    "### 5. 블로그 검색하기"
   ]
  },
  {
   "cell_type": "code",
   "execution_count": null,
   "id": "877d0c7f",
   "metadata": {},
   "outputs": [],
   "source": [
    "import requests\n",
    "import pprint\n",
    "\n",
    "headers = {\n",
    "    'X-Naver-Client-Id': 'V',\n",
    "    'X-Naver-Client-Secret': 'y_',\n",
    "}\n",
    "\n",
    "payload = {\n",
    "    'query': '파이썬',\n",
    "    'display': 100,\n",
    "    'sort': 'sim'\n",
    "}\n",
    "\n",
    "url = 'https://openapi.naver.com/v1/search/blog.json'\n",
    "\n",
    "res = requests.get(url, params=payload, headers=headers)\n",
    "items_data = res.json()['items']\n",
    "#print(items_data)\n",
    "\n",
    "items_list = list()\n",
    "item_list = []\n",
    "for item in items_data:\n",
    "#     print(item)\n",
    "    item_list.append(item['title'])\n",
    "    item_list.append(item['bloggername'])\n",
    "    item_list.append(item['description'])\n",
    "    item_list.append(item['bloggerlink'])\n",
    "    item_list.append(item['link'])\n",
    "\n",
    "    items_list.append(item_list)\n",
    "    item_list = []\n",
    "\n",
    "print(items_list)\n",
    "\n",
    "with open('data/nhnblog.txt','w',encoding=\"utf-8\")as file:\n",
    "    for items in items_list:\n",
    "        for item in items:\n",
    "            item = item + '\\n'\n",
    "            file.write(item)\n",
    "        file.write('-'*150+'\\n')"
   ]
  }
 ],
 "metadata": {
  "kernelspec": {
   "display_name": "Python 3 (ipykernel)",
   "language": "python",
   "name": "python3"
  },
  "language_info": {
   "codemirror_mode": {
    "name": "ipython",
    "version": 3
   },
   "file_extension": ".py",
   "mimetype": "text/x-python",
   "name": "python",
   "nbconvert_exporter": "python",
   "pygments_lexer": "ipython3",
   "version": "3.12.4"
  }
 },
 "nbformat": 4,
 "nbformat_minor": 5
}
